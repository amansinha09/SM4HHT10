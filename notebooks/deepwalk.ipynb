{
 "cells": [
  {
   "cell_type": "code",
   "execution_count": 65,
   "metadata": {},
   "outputs": [],
   "source": [
    "import pandas as pd\n",
    "\n",
    "import numpy as np\n",
    "import csv\n",
    "\n",
    "from sklearn.metrics import accuracy_score, confusion_matrix, classification_report, precision_recall_fscore_support"
   ]
  },
  {
   "cell_type": "code",
   "execution_count": 2,
   "metadata": {},
   "outputs": [],
   "source": [
    "train = pd.read_csv('../data/conll/training.conll', sep=\"\\t\")\n",
    "train = train[train['Word'].notna()]\n",
    "val = pd.read_csv('../data/conll/validation.conll', sep=\"\\t\")\n",
    "val = val[val['Word'].notna()]"
   ]
  },
  {
   "cell_type": "code",
   "execution_count": null,
   "metadata": {},
   "outputs": [],
   "source": []
  },
  {
   "cell_type": "code",
   "execution_count": 46,
   "metadata": {},
   "outputs": [],
   "source": [
    "# load w2id and create inverse\n",
    "id2wrd = pd.read_csv('./conll_all_w2id.txt', names=['id', 'word'],sep= '\\t',quoting=csv.QUOTE_NONE, encoding='utf-8')\n"
   ]
  },
  {
   "cell_type": "code",
   "execution_count": 55,
   "metadata": {},
   "outputs": [],
   "source": [
    "# load embeddings\n",
    "deepwalk_embeddings = {}\n",
    "with open('./conll_all_deepwalk.embeddings', 'r') as f:\n",
    "    next(f)\n",
    "    for l in f:\n",
    "        info = l.split(' ')\n",
    "        deepwalk_embeddings[int(info[0])] = [float(i) for i in info[1:]]\n",
    "\n",
    "# load labels\n",
    "labels = pd.read_csv('./conll_all_labels.txt',sep=\"\\t\", names=['id', 'label'])\n",
    "labels = dict(zip(labels.id, labels.label))"
   ]
  },
  {
   "cell_type": "code",
   "execution_count": 22,
   "metadata": {},
   "outputs": [
    {
     "data": {
      "text/plain": [
       "31735"
      ]
     },
     "execution_count": 22,
     "metadata": {},
     "output_type": "execute_result"
    }
   ],
   "source": [
    "len(deepwalk_embeddings)"
   ]
  },
  {
   "cell_type": "code",
   "execution_count": 59,
   "metadata": {},
   "outputs": [
    {
     "data": {
      "text/plain": [
       "((209470, 128), (84483, 128))"
      ]
     },
     "execution_count": 59,
     "metadata": {},
     "output_type": "execute_result"
    }
   ],
   "source": [
    "# loading features and labels\n",
    "\n",
    "word2id = dict(zip(id2wrd.word, id2wrd.id))\n",
    "\n",
    "\n",
    "train_x = np.asarray([deepwalk_embeddings[word2id[str(w).lower()]] for w in train.Word])\n",
    "test_x = np.asarray([deepwalk_embeddings[word2id[str(w).lower()]] for w in val.Word])\n",
    "\n",
    "train_y = [labels[word2id[str(w).lower()]] for w in train.Word]\n",
    "test_y = [labels[word2id[str(w).lower()]] for w in val.Word]\n",
    "\n",
    "train_x.shape, test_x.shape"
   ]
  },
  {
   "cell_type": "code",
   "execution_count": 62,
   "metadata": {},
   "outputs": [],
   "source": [
    "\n",
    "from sklearn.linear_model import LogisticRegression\n",
    "\n",
    "clf = LogisticRegression(random_state=0).fit(train_x, train_y)\n",
    "preds = clf.predict(test_x)\n",
    "\n"
   ]
  },
  {
   "cell_type": "code",
   "execution_count": 81,
   "metadata": {},
   "outputs": [
    {
     "name": "stdout",
     "output_type": "stream",
     "text": [
      "              precision    recall  f1-score   support\n",
      "\n",
      "      B-MISC       0.65      0.46      0.54      3969\n",
      "      I-MISC       0.87      0.79      0.83      4661\n",
      "\n",
      "   micro avg       0.78      0.64      0.70      8630\n",
      "   macro avg       0.76      0.62      0.68      8630\n",
      "weighted avg       0.77      0.64      0.70      8630\n",
      "\n"
     ]
    }
   ],
   "source": [
    "print(classification_report(test_y, preds, labels=[' B-MISC', ' I-MISC']))"
   ]
  },
  {
   "cell_type": "code",
   "execution_count": 83,
   "metadata": {},
   "outputs": [],
   "source": [
    "val['prediction'] = preds"
   ]
  },
  {
   "cell_type": "code",
   "execution_count": 84,
   "metadata": {},
   "outputs": [
    {
     "data": {
      "text/html": [
       "<div>\n",
       "<style scoped>\n",
       "    .dataframe tbody tr th:only-of-type {\n",
       "        vertical-align: middle;\n",
       "    }\n",
       "\n",
       "    .dataframe tbody tr th {\n",
       "        vertical-align: top;\n",
       "    }\n",
       "\n",
       "    .dataframe thead th {\n",
       "        text-align: right;\n",
       "    }\n",
       "</style>\n",
       "<table border=\"1\" class=\"dataframe\">\n",
       "  <thead>\n",
       "    <tr style=\"text-align: right;\">\n",
       "      <th></th>\n",
       "      <th>Id</th>\n",
       "      <th>Doc_Id</th>\n",
       "      <th>Sent_Id</th>\n",
       "      <th>Word</th>\n",
       "      <th>Tag</th>\n",
       "      <th>prediction</th>\n",
       "    </tr>\n",
       "  </thead>\n",
       "  <tbody>\n",
       "    <tr>\n",
       "      <th>0</th>\n",
       "      <td>0.0</td>\n",
       "      <td>1.091375e+18</td>\n",
       "      <td>1.0</td>\n",
       "      <td>¿</td>\n",
       "      <td>O</td>\n",
       "      <td>O</td>\n",
       "    </tr>\n",
       "    <tr>\n",
       "      <th>1</th>\n",
       "      <td>1.0</td>\n",
       "      <td>1.091375e+18</td>\n",
       "      <td>1.0</td>\n",
       "      <td>Qué</td>\n",
       "      <td>O</td>\n",
       "      <td>O</td>\n",
       "    </tr>\n",
       "    <tr>\n",
       "      <th>2</th>\n",
       "      <td>2.0</td>\n",
       "      <td>1.091375e+18</td>\n",
       "      <td>1.0</td>\n",
       "      <td>probabilidad</td>\n",
       "      <td>O</td>\n",
       "      <td>O</td>\n",
       "    </tr>\n",
       "    <tr>\n",
       "      <th>3</th>\n",
       "      <td>3.0</td>\n",
       "      <td>1.091375e+18</td>\n",
       "      <td>1.0</td>\n",
       "      <td>hay</td>\n",
       "      <td>O</td>\n",
       "      <td>O</td>\n",
       "    </tr>\n",
       "    <tr>\n",
       "      <th>4</th>\n",
       "      <td>4.0</td>\n",
       "      <td>1.091375e+18</td>\n",
       "      <td>1.0</td>\n",
       "      <td>de</td>\n",
       "      <td>O</td>\n",
       "      <td>I-MISC</td>\n",
       "    </tr>\n",
       "    <tr>\n",
       "      <th>...</th>\n",
       "      <td>...</td>\n",
       "      <td>...</td>\n",
       "      <td>...</td>\n",
       "      <td>...</td>\n",
       "      <td>...</td>\n",
       "      <td>...</td>\n",
       "    </tr>\n",
       "    <tr>\n",
       "      <th>86993</th>\n",
       "      <td>88213.0</td>\n",
       "      <td>1.500171e+18</td>\n",
       "      <td>2500.0</td>\n",
       "      <td>no</td>\n",
       "      <td>O</td>\n",
       "      <td>O</td>\n",
       "    </tr>\n",
       "    <tr>\n",
       "      <th>86994</th>\n",
       "      <td>88214.0</td>\n",
       "      <td>1.500171e+18</td>\n",
       "      <td>2500.0</td>\n",
       "      <td>me</td>\n",
       "      <td>O</td>\n",
       "      <td>O</td>\n",
       "    </tr>\n",
       "    <tr>\n",
       "      <th>86995</th>\n",
       "      <td>88215.0</td>\n",
       "      <td>1.500171e+18</td>\n",
       "      <td>2500.0</td>\n",
       "      <td>logro</td>\n",
       "      <td>O</td>\n",
       "      <td>O</td>\n",
       "    </tr>\n",
       "    <tr>\n",
       "      <th>86996</th>\n",
       "      <td>88216.0</td>\n",
       "      <td>1.500171e+18</td>\n",
       "      <td>2500.0</td>\n",
       "      <td>calmar</td>\n",
       "      <td>O</td>\n",
       "      <td>O</td>\n",
       "    </tr>\n",
       "    <tr>\n",
       "      <th>86997</th>\n",
       "      <td>88217.0</td>\n",
       "      <td>1.500171e+18</td>\n",
       "      <td>2500.0</td>\n",
       "      <td>dios</td>\n",
       "      <td>O</td>\n",
       "      <td>O</td>\n",
       "    </tr>\n",
       "  </tbody>\n",
       "</table>\n",
       "<p>84483 rows × 6 columns</p>\n",
       "</div>"
      ],
      "text/plain": [
       "            Id        Doc_Id  Sent_Id          Word Tag prediction\n",
       "0          0.0  1.091375e+18      1.0             ¿   O          O\n",
       "1          1.0  1.091375e+18      1.0           Qué   O          O\n",
       "2          2.0  1.091375e+18      1.0  probabilidad   O          O\n",
       "3          3.0  1.091375e+18      1.0           hay   O          O\n",
       "4          4.0  1.091375e+18      1.0            de   O     I-MISC\n",
       "...        ...           ...      ...           ...  ..        ...\n",
       "86993  88213.0  1.500171e+18   2500.0            no   O          O\n",
       "86994  88214.0  1.500171e+18   2500.0            me   O          O\n",
       "86995  88215.0  1.500171e+18   2500.0         logro   O          O\n",
       "86996  88216.0  1.500171e+18   2500.0        calmar   O          O\n",
       "86997  88217.0  1.500171e+18   2500.0          dios   O          O\n",
       "\n",
       "[84483 rows x 6 columns]"
      ]
     },
     "execution_count": 84,
     "metadata": {},
     "output_type": "execute_result"
    }
   ],
   "source": [
    "val"
   ]
  },
  {
   "cell_type": "code",
   "execution_count": null,
   "metadata": {},
   "outputs": [],
   "source": []
  }
 ],
 "metadata": {
  "kernelspec": {
   "display_name": "Python 3 (ipykernel)",
   "language": "python",
   "name": "python3"
  },
  "language_info": {
   "codemirror_mode": {
    "name": "ipython",
    "version": 3
   },
   "file_extension": ".py",
   "mimetype": "text/x-python",
   "name": "python",
   "nbconvert_exporter": "python",
   "pygments_lexer": "ipython3",
   "version": "3.7.13"
  }
 },
 "nbformat": 4,
 "nbformat_minor": 4
}
