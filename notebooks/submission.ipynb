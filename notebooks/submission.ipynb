{
 "cells": [
  {
   "cell_type": "code",
   "execution_count": 117,
   "id": "4a06efd8",
   "metadata": {},
   "outputs": [],
   "source": [
    "import pandas as pd\n",
    "import csv\n",
    "import numpy as np\n",
    "pd.set_option('display.max_rows', 1000)\n",
    "from sklearn.metrics import classification_report\n",
    "\n",
    "gold = pd.read_csv(\"SM4HHT10\\\\SM4HHT10\\\\data\\\\conll\\\\conll-spans-validation_ctest.conll\",\n",
    "                   sep=\"\\t\", quoting = csv.QUOTE_NONE, encoding=\"utf-8\", dtype='str').fillna('------')\n",
    "gold2 = gold[gold.Id != \"------\"].copy()\n",
    "\n",
    "pred = pd.read_csv(\"SM4HHT10\\\\SM4HHT10\\\\models\\\\flair\\\\test.tsv\",\n",
    "                   sep=\"\\t\", names=['token', 'gold','pred'], quoting = csv.QUOTE_NONE, encoding=\"utf-8\", dtype='str')\n"
   ]
  },
  {
   "cell_type": "code",
   "execution_count": 122,
   "id": "596bf10e",
   "metadata": {},
   "outputs": [],
   "source": [
    "df = pd.concat([gold2, pred], axis=1).dropna()"
   ]
  },
  {
   "cell_type": "code",
   "execution_count": 124,
   "id": "c66a6864",
   "metadata": {
    "scrolled": true
   },
   "outputs": [
    {
     "name": "stdout",
     "output_type": "stream",
     "text": [
      "              precision    recall  f1-score   support\n",
      "\n",
      "      B-MISC       0.96      0.95      0.95      4267\n",
      "      I-MISC       0.90      0.79      0.84      1574\n",
      "\n",
      "   micro avg       0.94      0.90      0.92      5841\n",
      "   macro avg       0.93      0.87      0.90      5841\n",
      "weighted avg       0.94      0.90      0.92      5841\n",
      "\n"
     ]
    }
   ],
   "source": [
    "print(classification_report(df.gold, df.pred, labels=[\"B-MISC\",\"I-MISC\"]))"
   ]
  },
  {
   "cell_type": "code",
   "execution_count": 152,
   "id": "13bf0b61",
   "metadata": {},
   "outputs": [
    {
     "ename": "SyntaxError",
     "evalue": "non-default argument follows default argument (2048959999.py, line 19)",
     "output_type": "error",
     "traceback": [
      "\u001b[1;36m  File \u001b[1;32m\"C:\\Users\\34645\\AppData\\Local\\Temp\\ipykernel_8920\\2048959999.py\"\u001b[1;36m, line \u001b[1;32m19\u001b[0m\n\u001b[1;33m    def merge_spans2(spans=[(113, 125), (126, 137), (185, 194), (196, 219)], words, debug=False):\u001b[0m\n\u001b[1;37m                    ^\u001b[0m\n\u001b[1;31mSyntaxError\u001b[0m\u001b[1;31m:\u001b[0m non-default argument follows default argument\n"
     ]
    }
   ],
   "source": [
    "#!/usr/bin/env python\n",
    "# coding: utf-8\n",
    "\n",
    "import pandas as pd\n",
    "import csv\n",
    "import numpy as np\n",
    "import argparse\n",
    "from tqdm import tqdm\n",
    "\n",
    "from sklearn.metrics import classification_report\n",
    "\n",
    "\n",
    "def peek_stack(stack):\n",
    "    if stack:\n",
    "        return stack[-1]    # this will get the last element of stack\n",
    "    else:\n",
    "        return None\n",
    "\n",
    "def merge_spans2(spans=[(113, 125), (126, 137), (185, 194), (196, 219)], words, debug=False):\n",
    "    \n",
    "    if debug : print(spans)\n",
    "    spans = np.asarray(spans)\n",
    "    stack = []\n",
    "    merged_words = []\n",
    "    for s, w in zip(spans.reshape(1,-1)[0], words):\n",
    "        if debug : print(s)\n",
    "        if len(stack) == 0:\n",
    "            stack.append(s)\n",
    "            merged_words.append(w)\n",
    "        else:\n",
    "            if s - peek_stack(stack) == 1:\n",
    "                stack.pop()\n",
    "                \n",
    "            else:\n",
    "                stack.append(s)\n",
    "        if debug : print(\"current stack: \", stack)\n",
    "    stack = np.asarray(stack)\n",
    "    return stack.reshape(-1, 2), merged_words\n",
    "    \n",
    "#merge_spans2(debug=True)    \n",
    "\n",
    "# def create_submission_file(args):\n",
    "\n",
    "path = \"SM4HHT10\\\\SM4HHT10\\\\data\\\\socialdisner_v3\\\\train-valid-txt-files\\\\validation\\\\\"\n",
    "\n",
    "validation = pd.read_csv(\"SM4HHT10\\\\SM4HHT10\\\\data\\\\conll\\\\conll-spans-validation_ctest.conll\",\n",
    "                         sep='\\t',quoting=csv.QUOTE_NONE, encoding='utf-8', dtype=\"object\").dropna()\n",
    "\n",
    "predictions = pd.read_csv(\"SM4HHT10\\\\SM4HHT10\\\\models\\\\flair\\\\test.tsv\", sep='\\t', names=['word', 'gold', 'pred'],\n",
    "                         encoding='utf-8').dropna()\n",
    "\n",
    "validation['pred'] = predictions.pred\n",
    "\n",
    "print(classification_report(predictions.gold, predictions.pred, labels=['B-MISC', 'I-MISC']))\n",
    "\n",
    "print('converting to submission format')\n",
    "with open(\"SM4HHT10\\\\SM4HHT10\\\\submissions\\\\blah.tsv\", \"w\", encoding=\"utf-8\") as fp:\n",
    "    print('tweets_id','begin','end','type','extraction',sep='\\t', file=fp)\n",
    "    for i in tqdm(range(1, len(validation.Sent_Id.drop_duplicates()) + 1)):\n",
    "        info = validation[validation.Sent_Id.astype(int) == i]\n",
    "#         print(info)\n",
    "        l = info[info.pred != 'O']\n",
    "        if len(l) == 0: continue\n",
    "        docid = l.Doc_Id.values[0]\n",
    "#         print(docid)\n",
    "        f = open(f'{path}{docid}.txt', 'r', encoding=\"utf-8\")\n",
    "        # replace tab with space then strip extra spaces\n",
    "        text = f.read().replace('\\n',' ').strip()\n",
    "        annoying_chars = [\"️\",\"⁩\",\"⁦\",\"2⃣\",\" \", \" \", \" \", \"⁩\", \"⁦\", \"‍\", \" \"]\n",
    "        for char in annoying_chars:\n",
    "            text = text.replace(char, '_').strip()\n",
    "        #print(text)\n",
    "        #print('*'*20)\n",
    "        #print(l.Doc_Id.values[0], l.begin.values[0], l.end.values[0], l.pred.values[0])\n",
    "        spans = [[s,e] for s,e in zip(l.begin.astype(int), l.end.astype(int))]\n",
    "        words = [w for w in l.Word]\n",
    "        #print(docid, spans)\n",
    "        spans = merge_spans2(spans, words)\n",
    "        #print(spans)\n",
    "        for span in spans:\n",
    "            aman = text[span[0]: span[1]]\n",
    "            for char in annoying_chars:\n",
    "                aman = aman.replace(char, '_').strip()\n",
    "            print(docid, span[0], span[1], 'ENFERMEDAD', aman, sep='\\t', file=fp)\n",
    "\n",
    "#         \"print(\"#\"*20)\n",
    "        #break\n",
    "\n",
    "\n",
    "# create_submission_file(args)"
   ]
  },
  {
   "cell_type": "code",
   "execution_count": 135,
   "id": "b302df3c",
   "metadata": {},
   "outputs": [
    {
     "data": {
      "text/html": [
       "<div>\n",
       "<style scoped>\n",
       "    .dataframe tbody tr th:only-of-type {\n",
       "        vertical-align: middle;\n",
       "    }\n",
       "\n",
       "    .dataframe tbody tr th {\n",
       "        vertical-align: top;\n",
       "    }\n",
       "\n",
       "    .dataframe thead th {\n",
       "        text-align: right;\n",
       "    }\n",
       "</style>\n",
       "<table border=\"1\" class=\"dataframe\">\n",
       "  <thead>\n",
       "    <tr style=\"text-align: right;\">\n",
       "      <th></th>\n",
       "      <th>Id</th>\n",
       "      <th>Doc_Id</th>\n",
       "      <th>Sent_Id</th>\n",
       "      <th>Word</th>\n",
       "      <th>Tag</th>\n",
       "      <th>begin</th>\n",
       "      <th>end</th>\n",
       "      <th>pred</th>\n",
       "    </tr>\n",
       "  </thead>\n",
       "  <tbody>\n",
       "  </tbody>\n",
       "</table>\n",
       "</div>"
      ],
      "text/plain": [
       "Empty DataFrame\n",
       "Columns: [Id, Doc_Id, Sent_Id, Word, Tag, begin, end, pred]\n",
       "Index: []"
      ]
     },
     "execution_count": 135,
     "metadata": {},
     "output_type": "execute_result"
    }
   ],
   "source": []
  }
 ],
 "metadata": {
  "kernelspec": {
   "display_name": "Python 3 (ipykernel)",
   "language": "python",
   "name": "python3"
  },
  "language_info": {
   "codemirror_mode": {
    "name": "ipython",
    "version": 3
   },
   "file_extension": ".py",
   "mimetype": "text/x-python",
   "name": "python",
   "nbconvert_exporter": "python",
   "pygments_lexer": "ipython3",
   "version": "3.7.10"
  }
 },
 "nbformat": 4,
 "nbformat_minor": 5
}
